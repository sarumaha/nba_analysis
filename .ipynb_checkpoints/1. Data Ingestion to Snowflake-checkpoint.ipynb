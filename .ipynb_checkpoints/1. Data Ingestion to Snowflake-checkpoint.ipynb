{
 "cells": [
  {
   "cell_type": "code",
   "execution_count": 1,
   "id": "f687b5f8",
   "metadata": {},
   "outputs": [
    {
     "name": "stdout",
     "output_type": "stream",
     "text": [
      "/Users/yogisharosarumaha/Documents/nba_analysis/venv/bin/python\n"
     ]
    }
   ],
   "source": [
    "import sys\n",
    "print(sys.executable)\n"
   ]
  },
  {
   "cell_type": "code",
   "execution_count": 2,
   "id": "13349113",
   "metadata": {},
   "outputs": [
    {
     "name": "stdout",
     "output_type": "stream",
     "text": [
      "Requirement already satisfied: pandas in ./venv/lib/python3.11/site-packages (2.2.3)\n",
      "Requirement already satisfied: numpy>=1.23.2 in ./venv/lib/python3.11/site-packages (from pandas) (2.1.3)\n",
      "Requirement already satisfied: python-dateutil>=2.8.2 in ./venv/lib/python3.11/site-packages (from pandas) (2.9.0.post0)\n",
      "Requirement already satisfied: pytz>=2020.1 in ./venv/lib/python3.11/site-packages (from pandas) (2024.2)\n",
      "Requirement already satisfied: tzdata>=2022.7 in ./venv/lib/python3.11/site-packages (from pandas) (2024.2)\n",
      "Requirement already satisfied: six>=1.5 in ./venv/lib/python3.11/site-packages (from python-dateutil>=2.8.2->pandas) (1.16.0)\n"
     ]
    }
   ],
   "source": [
    "!pip install pandas"
   ]
  },
  {
   "cell_type": "code",
   "execution_count": 3,
   "id": "579b0eb2",
   "metadata": {},
   "outputs": [
    {
     "name": "stdout",
     "output_type": "stream",
     "text": [
      "Requirement already satisfied: kaggle in ./venv/lib/python3.11/site-packages (1.6.17)\n",
      "Requirement already satisfied: six>=1.10 in ./venv/lib/python3.11/site-packages (from kaggle) (1.16.0)\n",
      "Requirement already satisfied: certifi>=2023.7.22 in ./venv/lib/python3.11/site-packages (from kaggle) (2024.8.30)\n",
      "Requirement already satisfied: python-dateutil in ./venv/lib/python3.11/site-packages (from kaggle) (2.9.0.post0)\n",
      "Requirement already satisfied: requests in ./venv/lib/python3.11/site-packages (from kaggle) (2.32.3)\n",
      "Requirement already satisfied: tqdm in ./venv/lib/python3.11/site-packages (from kaggle) (4.67.0)\n",
      "Requirement already satisfied: python-slugify in ./venv/lib/python3.11/site-packages (from kaggle) (8.0.4)\n",
      "Requirement already satisfied: urllib3 in ./venv/lib/python3.11/site-packages (from kaggle) (2.2.3)\n",
      "Requirement already satisfied: bleach in ./venv/lib/python3.11/site-packages (from kaggle) (6.2.0)\n",
      "Requirement already satisfied: webencodings in ./venv/lib/python3.11/site-packages (from bleach->kaggle) (0.5.1)\n",
      "Requirement already satisfied: text-unidecode>=1.3 in ./venv/lib/python3.11/site-packages (from python-slugify->kaggle) (1.3)\n",
      "Requirement already satisfied: charset-normalizer<4,>=2 in ./venv/lib/python3.11/site-packages (from requests->kaggle) (3.4.0)\n",
      "Requirement already satisfied: idna<4,>=2.5 in ./venv/lib/python3.11/site-packages (from requests->kaggle) (3.10)\n"
     ]
    }
   ],
   "source": [
    "!pip install kaggle"
   ]
  },
  {
   "cell_type": "code",
   "execution_count": 4,
   "id": "03606db5",
   "metadata": {},
   "outputs": [
    {
     "name": "stdout",
     "output_type": "stream",
     "text": [
      "Dataset URL: https://www.kaggle.com/datasets/nathanlauga/nba-games\n",
      "License(s): unknown\n",
      "Downloading nba-games.zip to dataset\n",
      " 99%|██████████████████████████████████████▌| 21.0M/21.2M [00:20<00:00, 865kB/s]\n",
      "100%|██████████████████████████████████████| 21.2M/21.2M [00:20<00:00, 1.08MB/s]\n"
     ]
    }
   ],
   "source": [
    "import os\n",
    "import kaggle\n",
    "\n",
    "# Configure Kaggle API\n",
    "# os.environ['KAGGLE_USERNAME'] = os.getenv('KAGGLE_USERNAME')\n",
    "# os.environ['KAGGLE_KEY'] = os.getenv('KAGGLE_KEY')\n",
    "os.environ['KAGGLE_USERNAME'] = 'your_username'\n",
    "os.environ['KAGGLE_KEY'] = 'your_api_key'\n",
    "\n",
    "# Now you can use Kaggle API commands\n",
    "!kaggle datasets download -d nathanlauga/nba-games -p dataset --unzip\n"
   ]
  },
  {
   "cell_type": "markdown",
   "id": "34254516",
   "metadata": {},
   "source": [
    "# Convert to Parquet using Spark"
   ]
  },
  {
   "cell_type": "code",
   "execution_count": 5,
   "id": "88737f04",
   "metadata": {},
   "outputs": [
    {
     "name": "stderr",
     "output_type": "stream",
     "text": [
      "24/11/13 14:45:16 WARN Utils: Your hostname, Yogis-MacBook-Pro.local resolves to a loopback address: 127.0.0.1; using 10.20.19.78 instead (on interface en0)\n",
      "24/11/13 14:45:16 WARN Utils: Set SPARK_LOCAL_IP if you need to bind to another address\n",
      "Setting default log level to \"WARN\".\n",
      "To adjust logging level use sc.setLogLevel(newLevel). For SparkR, use setLogLevel(newLevel).\n",
      "24/11/13 14:45:17 WARN NativeCodeLoader: Unable to load native-hadoop library for your platform... using builtin-java classes where applicable\n"
     ]
    }
   ],
   "source": [
    "from pyspark.sql import SparkSession\n",
    "from pyspark.sql.types import StructType, StructField, IntegerType, StringType, FloatType\n",
    "\n",
    "# Initialize a Spark session\n",
    "spark = SparkSession.builder \\\n",
    "    .appName(\"Convert CSV to Parquet\") \\\n",
    "    .master(\"local[2]\") \\\n",
    "    .config(\"spark.executor.memory\", \"2g\") \\\n",
    "    .config(\"spark.executor.cores\", \"1\")  \\\n",
    "    .config(\"spark.driver.memory\", \"1g\") \\\n",
    "    .getOrCreate()\n"
   ]
  },
  {
   "cell_type": "code",
   "execution_count": 6,
   "id": "c3c28d13",
   "metadata": {},
   "outputs": [],
   "source": [
    "\n",
    "# Define schemas for each CSV based on the columns you provided\n",
    "schema_games_details = StructType([\n",
    "    StructField(\"GAME_ID\", StringType(), True),\n",
    "    StructField(\"TEAM_ID\", StringType(), True),\n",
    "    StructField(\"TEAM_ABBREVIATION\", StringType(), True),\n",
    "    StructField(\"TEAM_CITY\", StringType(), True),\n",
    "    StructField(\"PLAYER_ID\", StringType(), True),\n",
    "    StructField(\"PLAYER_NAME\", StringType(), True),\n",
    "    StructField(\"NICKNAME\", StringType(), True),\n",
    "    StructField(\"START_POSITION\", StringType(), True),\n",
    "    StructField(\"COMMENT\", StringType(), True),\n",
    "    StructField(\"MIN\", StringType(), True),\n",
    "    StructField(\"FGM\", IntegerType(), True),\n",
    "    StructField(\"FGA\", IntegerType(), True),\n",
    "    StructField(\"FG_PCT\", FloatType(), True),\n",
    "    StructField(\"FG3M\", IntegerType(), True),\n",
    "    StructField(\"FG3A\", IntegerType(), True),\n",
    "    StructField(\"FG3_PCT\", FloatType(), True),\n",
    "    StructField(\"FTM\", IntegerType(), True),\n",
    "    StructField(\"FTA\", IntegerType(), True),\n",
    "    StructField(\"FT_PCT\", FloatType(), True),\n",
    "    StructField(\"OREB\", IntegerType(), True),\n",
    "    StructField(\"DREB\", IntegerType(), True),\n",
    "    StructField(\"REB\", IntegerType(), True),\n",
    "    StructField(\"AST\", IntegerType(), True),\n",
    "    StructField(\"STL\", IntegerType(), True),\n",
    "    StructField(\"BLK\", IntegerType(), True),\n",
    "    StructField(\"TO\", IntegerType(), True),\n",
    "    StructField(\"PF\", IntegerType(), True),\n",
    "    StructField(\"PTS\", IntegerType(), True),\n",
    "    StructField(\"PLUS_MINUS\", IntegerType(), True),\n",
    "])\n",
    "\n",
    "schema_games = StructType([\n",
    "    StructField(\"GAME_DATE_EST\", StringType(), True),\n",
    "    StructField(\"GAME_ID\", StringType(), True),\n",
    "    StructField(\"GAME_STATUS_TEXT\", StringType(), True),\n",
    "    StructField(\"HOME_TEAM_ID\", StringType(), True),\n",
    "    StructField(\"VISITOR_TEAM_ID\", StringType(), True),\n",
    "    StructField(\"SEASON\", IntegerType(), True),\n",
    "    StructField(\"TEAM_ID_home\", StringType(), True),\n",
    "    StructField(\"PTS_home\", IntegerType(), True),\n",
    "    StructField(\"FG_PCT_home\", FloatType(), True),\n",
    "    StructField(\"FT_PCT_home\", FloatType(), True),\n",
    "    StructField(\"FG3_PCT_home\", FloatType(), True),\n",
    "    StructField(\"AST_home\", IntegerType(), True),\n",
    "    StructField(\"REB_home\", IntegerType(), True),\n",
    "    StructField(\"TEAM_ID_away\", StringType(), True),\n",
    "    StructField(\"PTS_away\", IntegerType(), True),\n",
    "    StructField(\"FG_PCT_away\", FloatType(), True),\n",
    "    StructField(\"FT_PCT_away\", FloatType(), True),\n",
    "    StructField(\"FG3_PCT_away\", FloatType(), True),\n",
    "    StructField(\"AST_away\", IntegerType(), True),\n",
    "    StructField(\"REB_away\", IntegerType(), True),\n",
    "    StructField(\"HOME_TEAM_WINS\", IntegerType(), True),\n",
    "])\n",
    "\n",
    "schema_players = StructType([\n",
    "    StructField(\"PLAYER_NAME\", StringType(), True),\n",
    "    StructField(\"TEAM_ID\", StringType(), True),\n",
    "    StructField(\"PLAYER_ID\", StringType(), True),\n",
    "    StructField(\"SEASON\", IntegerType(), True)\n",
    "])\n",
    "\n",
    "schema_ranking = StructType([\n",
    "    StructField(\"TEAM_ID\", StringType(), True),\n",
    "    StructField(\"LEAGUE_ID\", StringType(), True),\n",
    "    StructField(\"SEASON_ID\", StringType(), True),\n",
    "    StructField(\"STANDINGSDATE\", StringType(), True),\n",
    "    StructField(\"CONFERENCE\", StringType(), True),\n",
    "    StructField(\"TEAM\", StringType(), True),\n",
    "    StructField(\"G\", IntegerType(), True),\n",
    "    StructField(\"W\", IntegerType(), True),\n",
    "    StructField(\"L\", IntegerType(), True),\n",
    "    StructField(\"W_PCT\", FloatType(), True),\n",
    "    StructField(\"HOME_RECORD\", StringType(), True),\n",
    "    StructField(\"ROAD_RECORD\", StringType(), True),\n",
    "    StructField(\"RETURNTOPLAY\", StringType(), True)\n",
    "])\n",
    "\n",
    "schema_teams = StructType([\n",
    "    StructField(\"LEAGUE_ID\", StringType(), True),\n",
    "    StructField(\"TEAM_ID\", StringType(), True),\n",
    "    StructField(\"MIN_YEAR\", StringType(), True),\n",
    "    StructField(\"MAX_YEAR\", StringType(), True),\n",
    "    StructField(\"ABBREVIATION\", StringType(), True),\n",
    "    StructField(\"NICKNAME\", StringType(), True),\n",
    "    StructField(\"YEARFOUNDED\", IntegerType(), True),\n",
    "    StructField(\"CITY\", StringType(), True),\n",
    "    StructField(\"ARENA\", StringType(), True),\n",
    "    StructField(\"ARENACAPACITY\", IntegerType(), True),\n",
    "    StructField(\"OWNER\", StringType(), True),\n",
    "    StructField(\"GENERALMANAGER\", StringType(), True),\n",
    "    StructField(\"HEADCOACH\", StringType(), True),\n",
    "    StructField(\"DLEAGUEAFFILIATION\", StringType(), True)\n",
    "])\n",
    "\n",
    "\n"
   ]
  },
  {
   "cell_type": "code",
   "execution_count": 7,
   "id": "09453dbf",
   "metadata": {},
   "outputs": [
    {
     "name": "stderr",
     "output_type": "stream",
     "text": [
      "24/11/13 14:45:21 WARN SparkStringUtils: Truncated the string representation of a plan since it was too large. This behavior can be adjusted by setting 'spark.sql.debug.maxToStringFields'.\n",
      "                                                                                \r"
     ]
    }
   ],
   "source": [
    "# Function to convert CSV to Parquet\n",
    "def convert_csv_to_parquet(file_path, schema, output_path):\n",
    "    df = spark.read.csv(file_path, header=True, schema=schema)\n",
    "    df.write.parquet(output_path, mode='overwrite')\n",
    "\n",
    "# Specify your file paths\n",
    "convert_csv_to_parquet(\"dataset/games_details.csv\", schema_games_details, \"dataset/parquet/games_details\")\n",
    "convert_csv_to_parquet(\"dataset/games.csv\", schema_games, \"dataset/parquet/games\")\n",
    "convert_csv_to_parquet(\"dataset/players.csv\", schema_players, \"dataset/parquet/players\")\n",
    "convert_csv_to_parquet(\"dataset/ranking.csv\", schema_ranking, \"dataset/parquet/ranking\")\n",
    "convert_csv_to_parquet(\"dataset/teams.csv\", schema_teams, \"dataset/parquet/teams\")\n"
   ]
  },
  {
   "cell_type": "markdown",
   "id": "e8e74e4e-5cda-48de-b137-c0784d94f8d7",
   "metadata": {},
   "source": [
    "# Compare parquet and sql performance"
   ]
  },
  {
   "cell_type": "code",
   "execution_count": 8,
   "id": "66c96a3b-aa14-49b8-ab70-4a2b422467c5",
   "metadata": {},
   "outputs": [
    {
     "name": "stdout",
     "output_type": "stream",
     "text": [
      "Games CSV - Count: 26651, Time taken: 0.7394 seconds\n",
      "Games Parquet - Count: 26651, Time taken: 0.3363 seconds\n",
      "Players CSV - Count: 7228, Time taken: 0.1379 seconds\n",
      "Players Parquet - Count: 7228, Time taken: 0.1084 seconds\n"
     ]
    },
    {
     "data": {
      "image/png": "[encoded data removed]",
      "text/plain": [
       "<Figure size 640x480 with 1 Axes>"
      ]
     },
     "metadata": {},
     "output_type": "display_data"
    }
   ],
   "source": [
    "from pyspark.sql import SparkSession\n",
    "import time\n",
    "import matplotlib.pyplot as plt\n",
    "\n",
    "# Define paths to your datasets\n",
    "path_csv_games = \"dataset/games.csv\"\n",
    "path_csv_players = \"dataset/players.csv\"  # Updated to players CSV\n",
    "path_parquet_players = \"dataset/parquet/players\"  # Updated to players Parquet\n",
    "path_parquet_games = \"dataset/parquet/games\"\n",
    "\n",
    "\n",
    "# Load all Parquet files from the specified directory\n",
    "df_games_parquet = spark.read.parquet(path_parquet_games)\n",
    "df_players_parquet = spark.read.parquet(path_parquet_players)\n",
    "\n",
    "# Initialize lists to store results for visualization\n",
    "count_results = []\n",
    "\n",
    "# Function to load data and benchmark simple count query\n",
    "def benchmark_count(dataframe, description):\n",
    "    start_time = time.time()\n",
    "    count = dataframe.count()\n",
    "    end_time = time.time()\n",
    "    duration = end_time - start_time\n",
    "    count_results.append((description, duration))\n",
    "    print(f\"{description} - Count: {count}, Time taken: {duration:.4f} seconds\")\n",
    "\n",
    "\n",
    "# Load and benchmark CSV and Parquet for 'games.csv'\n",
    "df_games_csv = spark.read.csv(path_csv_games, header=True, inferSchema=True)\n",
    "df_games_parquet = spark.read.parquet(path_parquet_games)\n",
    "\n",
    "benchmark_count(df_games_csv, \"Games CSV\")\n",
    "benchmark_count(df_games_parquet, \"Games Parquet\")\n",
    "\n",
    "# Load and benchmark CSV and Parquet for 'players.csv'\n",
    "df_players_csv = spark.read.csv(path_csv_players, header=True, inferSchema=True)\n",
    "df_players_parquet = spark.read.parquet(path_parquet_players)\n",
    "\n",
    "benchmark_count(df_players_csv, \"Players CSV\")\n",
    "benchmark_count(df_players_parquet, \"Players Parquet\")\n",
    "\n",
    "\n",
    "# Visualization for Count Benchmark\n",
    "labels, times = zip(*count_results)\n",
    "fig, ax = plt.subplots()\n",
    "ax.barh(labels, times, color='skyblue')\n",
    "ax.set_xlabel('Time in seconds')\n",
    "ax.set_title('Count Performance: CSV vs. Parquet')\n",
    "plt.show()"
   ]
  },
  {
   "cell_type": "code",
   "execution_count": 9,
   "id": "39853b3b-ed11-4682-9eaf-82b11473913c",
   "metadata": {},
   "outputs": [
    {
     "name": "stdout",
     "output_type": "stream",
     "text": [
      "Players CSV Complex Query - Time taken for complex query: 1.4690 seconds\n",
      "Players Parquet Complex Query - Time taken for complex query: 0.6410 seconds\n"
     ]
    },
    {
     "data": {
      "image/png": "[encoded data removed]",
      "text/plain": [
       "<Figure size 640x480 with 1 Axes>"
      ]
     },
     "metadata": {},
     "output_type": "display_data"
    }
   ],
   "source": [
    "# Define paths to your datasets\n",
    "path_csv_players = \"dataset/players.csv\"\n",
    "path_parquet_players = \"dataset/parquet/players\"\n",
    "\n",
    "# Load all Parquet files from the specified directory\n",
    "df_players_csv = spark.read.csv(path_csv_players, header=True, inferSchema=True)\n",
    "df_players_parquet = spark.read.parquet(path_parquet_players)\n",
    "\n",
    "# Initialize lists to store results for visualization\n",
    "query_results = []\n",
    "\n",
    "# Function to perform a complex query and benchmark\n",
    "def complex_query_benchmark(dataframe, description):\n",
    "    start_time = time.time()\n",
    "    result = dataframe.groupBy(\"TEAM_ID\").avg(\"SEASON\").collect()\n",
    "    end_time = time.time()\n",
    "    duration = end_time - start_time\n",
    "    query_results.append((description, duration))\n",
    "    print(f\"{description} - Time taken for complex query: {duration:.4f} seconds\")\n",
    "\n",
    "# Complex Query Benchmarking\n",
    "complex_query_benchmark(df_players_csv, \"Players CSV Complex Query\")\n",
    "complex_query_benchmark(df_players_parquet, \"Players Parquet Complex Query\")\n",
    "\n",
    "\n",
    "\n",
    "# Visualization for Complex Query Benchmark\n",
    "labels, times = zip(*query_results)\n",
    "fig, ax = plt.subplots()\n",
    "ax.barh(labels, times, color='orange')\n",
    "ax.set_xlabel('Time in seconds')\n",
    "ax.set_title('Complex Query Performance: CSV vs. Parquet')\n",
    "plt.show()"
   ]
  },
  {
   "cell_type": "markdown",
   "id": "959848b1-d503-4c03-abcb-85f2a10fb543",
   "metadata": {},
   "source": [
    "# Data Ingestion to Snowflake"
   ]
  },
  {
   "cell_type": "code",
   "execution_count": 10,
   "id": "553af13a-4ec0-44bd-8e96-fdf25055a8c3",
   "metadata": {},
   "outputs": [],
   "source": [
    "# Testing Connection"
   ]
  },
  {
   "cell_type": "code",
   "execution_count": 15,
   "id": "58ba275a-2c2a-46ee-8d11-f94f0b679a2a",
   "metadata": {},
   "outputs": [
    {
     "name": "stdout",
     "output_type": "stream",
     "text": [
      "Connected to Snowflake! The version is: 8.42.2\n"
     ]
    }
   ],
   "source": [
    "import os\n",
    "from dotenv import load_dotenv\n",
    "import snowflake.connector\n",
    "\n",
    "# Load environment variables from .env file\n",
    "load_dotenv()\n",
    "\n",
    "def test_snowflake_connection():\n",
    "    # Setup connection to Snowflake\n",
    "    ctx = snowflake.connector.connect(\n",
    "        user=os.getenv('SNOWFLAKE_USER'),\n",
    "        password=os.getenv('SNOWFLAKE_PASSWORD'),\n",
    "        account=os.getenv('SNOWFLAKE_ACCOUNT'),\n",
    "        warehouse=os.getenv('SNOWFLAKE_WAREHOUSE'),\n",
    "        database=os.getenv('SNOWFLAKE_DATABASE'),\n",
    "        schema=os.getenv('SNOWFLAKE_SCHEMA')\n",
    "    )\n",
    "    \n",
    "    try:\n",
    "        # Create a cursor object\n",
    "        cur = ctx.cursor()\n",
    "        \n",
    "        # Execute a query\n",
    "        cur.execute(\"SELECT CURRENT_VERSION()\")\n",
    "        \n",
    "        # Fetch one result\n",
    "        one_row = cur.fetchone()\n",
    "        print(\"Connected to Snowflake! The version is:\", one_row[0])\n",
    "    \n",
    "    except Exception as e:\n",
    "        print(\"Failed to query Snowflake:\", e)\n",
    "    \n",
    "    finally:\n",
    "        cur.close()\n",
    "        ctx.close()\n",
    "\n",
    "if __name__ == \"__main__\":\n",
    "    test_snowflake_connection()\n"
   ]
  },
  {
   "cell_type": "code",
   "execution_count": 18,
   "id": "5a1c7e5e-1aee-4655-a88b-801deff52df2",
   "metadata": {},
   "outputs": [
    {
     "name": "stdout",
     "output_type": "stream",
     "text": [
      "User: dbt\n",
      "Account: pt85666.us-east-2.aws\n",
      "Role: ACCOUNTADMIN\n"
     ]
    }
   ],
   "source": [
    "print(\"User:\", os.getenv('SNOWFLAKE_USER'))\n",
    "print(\"Account:\", os.getenv('SNOWFLAKE_ACCOUNT'))\n",
    "print(\"Role:\", os.getenv('SNOWFLAKE_ROLE'))\n",
    "# Ensure not to print the password or sensitive information\n"
   ]
  },
  {
   "cell_type": "code",
   "execution_count": 21,
   "id": "53cf5a61-8d81-4f68-8f65-e9fb63dd13cd",
   "metadata": {},
   "outputs": [
    {
     "name": "stdout",
     "output_type": "stream",
     "text": [
      "Successfully uploaded 26651 rows and 1 chunks to GAMES.\n",
      "Successfully uploaded 315922 rows and 1 chunks to GAMES_DETAILS.\n",
      "Failed to upload data to GAMES_DETAILS: 100038 (22018): Numeric value 'Romeo' is not recognized\n",
      "Successfully uploaded 7228 rows and 1 chunks to PLAYERS.\n",
      "Successfully uploaded 77291 rows and 1 chunks to RANKING.\n",
      "Successfully uploaded 133051 rows and 1 chunks to RANKING.\n",
      "Successfully uploaded 30 rows and 1 chunks to TEAMS.\n"
     ]
    }
   ],
   "source": [
    "import os\n",
    "import pandas as pd\n",
    "import snowflake.connector\n",
    "from snowflake.connector.pandas_tools import write_pandas\n",
    "from dotenv import load_dotenv\n",
    "\n",
    "# Load environment variables\n",
    "load_dotenv()\n",
    "\n",
    "# Establish connection to Snowflake\n",
    "ctx = snowflake.connector.connect(\n",
    "    user=os.getenv('SNOWFLAKE_USER'),\n",
    "    password=os.getenv('SNOWFLAKE_PASSWORD'),\n",
    "    account=os.getenv('SNOWFLAKE_ACCOUNT'),\n",
    "    warehouse=os.getenv('SNOWFLAKE_WAREHOUSE'),\n",
    "    database=os.getenv('SNOWFLAKE_DATABASE'),\n",
    "    schema=os.getenv('SNOWFLAKE_SCHEMA'),\n",
    "    role=os.getenv('SNOWFLAKE_ROLE')\n",
    ")\n",
    "\n",
    "# Function to upload DataFrame to Snowflake and automatically create tables if they don't exist\n",
    "def upload_dataframe_to_snowflake(df, table_name):\n",
    "    try:\n",
    "        success, nchunks, nrows, _ = write_pandas(ctx, df, table_name, auto_create_table=True)\n",
    "        print(f\"Successfully uploaded {nrows} rows and {nchunks} chunks to {table_name}.\")\n",
    "    except Exception as e:\n",
    "        print(f\"Failed to upload data to {table_name}: {e}\")\n",
    "\n",
    "# Dictionary mapping table names to Parquet directories\n",
    "parquet_dirs = {\n",
    "    'games': 'dataset/parquet/games',\n",
    "    'games_details': 'dataset/parquet/games_details',\n",
    "    'players': 'dataset/parquet/players',\n",
    "    'ranking': 'dataset/parquet/ranking',\n",
    "    'teams': 'dataset/parquet/teams'\n",
    "}\n",
    "\n",
    "# Process each Parquet directory and upload its contents to Snowflake\n",
    "for table_name, directory in parquet_dirs.items():\n",
    "    for file_name in os.listdir(directory):\n",
    "        if file_name.endswith('.parquet'):\n",
    "            file_path = os.path.join(directory, file_name)\n",
    "            df = pd.read_parquet(file_path)\n",
    "            # Calling the function to upload data\n",
    "            upload_dataframe_to_snowflake(df, table_name.upper())\n",
    "\n",
    "# Close the connection\n",
    "ctx.close()"
   ]
  },
  {
   "cell_type": "code",
   "execution_count": null,
   "id": "b6f71410-9c38-4041-87f4-863c27e130a6",
   "metadata": {},
   "outputs": [],
   "source": []
  }
 ],
 "metadata": {
  "kernelspec": {
   "display_name": "Python (NBA Analysis)",
   "language": "python",
   "name": "nba_analysis_env"
  },
  "language_info": {
   "codemirror_mode": {
    "name": "ipython",
    "version": 3
   },
   "file_extension": ".py",
   "mimetype": "text/x-python",
   "name": "python",
   "nbconvert_exporter": "python",
   "pygments_lexer": "ipython3",
   "version": "3.11.5"
  }
 },
 "nbformat": 4,
 "nbformat_minor": 5
}
