{
 "cells": [
  {
   "cell_type": "code",
   "execution_count": 1,
   "id": "f687b5f8",
   "metadata": {},
   "outputs": [
    {
     "name": "stdout",
     "output_type": "stream",
     "text": [
      "/Users/yogisharosarumaha/Documents/nba_analysis/venv/bin/python\n"
     ]
    }
   ],
   "source": [
    "import sys\n",
    "print(sys.executable)\n"
   ]
  },
  {
   "cell_type": "code",
   "execution_count": 2,
   "id": "13349113",
   "metadata": {},
   "outputs": [
    {
     "name": "stdout",
     "output_type": "stream",
     "text": [
      "Requirement already satisfied: pandas in ./venv/lib/python3.11/site-packages (2.2.3)\n",
      "Requirement already satisfied: numpy>=1.23.2 in ./venv/lib/python3.11/site-packages (from pandas) (1.26.4)\n",
      "Requirement already satisfied: python-dateutil>=2.8.2 in ./venv/lib/python3.11/site-packages (from pandas) (2.9.0.post0)\n",
      "Requirement already satisfied: pytz>=2020.1 in ./venv/lib/python3.11/site-packages (from pandas) (2024.2)\n",
      "Requirement already satisfied: tzdata>=2022.7 in ./venv/lib/python3.11/site-packages (from pandas) (2024.2)\n",
      "Requirement already satisfied: six>=1.5 in ./venv/lib/python3.11/site-packages (from python-dateutil>=2.8.2->pandas) (1.16.0)\n"
     ]
    }
   ],
   "source": [
    "!pip install pandas"
   ]
  },
  {
   "cell_type": "code",
   "execution_count": 3,
   "id": "579b0eb2",
   "metadata": {},
   "outputs": [
    {
     "name": "stdout",
     "output_type": "stream",
     "text": [
      "Requirement already satisfied: kaggle in ./venv/lib/python3.11/site-packages (1.6.17)\n",
      "Requirement already satisfied: six>=1.10 in ./venv/lib/python3.11/site-packages (from kaggle) (1.16.0)\n",
      "Requirement already satisfied: certifi>=2023.7.22 in ./venv/lib/python3.11/site-packages (from kaggle) (2024.8.30)\n",
      "Requirement already satisfied: python-dateutil in ./venv/lib/python3.11/site-packages (from kaggle) (2.9.0.post0)\n",
      "Requirement already satisfied: requests in ./venv/lib/python3.11/site-packages (from kaggle) (2.32.3)\n",
      "Requirement already satisfied: tqdm in ./venv/lib/python3.11/site-packages (from kaggle) (4.67.0)\n",
      "Requirement already satisfied: python-slugify in ./venv/lib/python3.11/site-packages (from kaggle) (8.0.4)\n",
      "Requirement already satisfied: urllib3 in ./venv/lib/python3.11/site-packages (from kaggle) (2.2.3)\n",
      "Requirement already satisfied: bleach in ./venv/lib/python3.11/site-packages (from kaggle) (6.2.0)\n",
      "Requirement already satisfied: webencodings in ./venv/lib/python3.11/site-packages (from bleach->kaggle) (0.5.1)\n",
      "Requirement already satisfied: text-unidecode>=1.3 in ./venv/lib/python3.11/site-packages (from python-slugify->kaggle) (1.3)\n",
      "Requirement already satisfied: charset-normalizer<4,>=2 in ./venv/lib/python3.11/site-packages (from requests->kaggle) (3.4.0)\n",
      "Requirement already satisfied: idna<4,>=2.5 in ./venv/lib/python3.11/site-packages (from requests->kaggle) (3.10)\n"
     ]
    }
   ],
   "source": [
    "!pip install kaggle"
   ]
  },
  {
   "cell_type": "code",
   "execution_count": 4,
   "id": "03606db5",
   "metadata": {},
   "outputs": [
    {
     "name": "stdout",
     "output_type": "stream",
     "text": [
      "Dataset URL: https://www.kaggle.com/datasets/nathanlauga/nba-games\n",
      "License(s): unknown\n",
      "Downloading nba-games.zip to dataset\n",
      " 99%|█████████████████████████████████████▌| 21.0M/21.2M [00:02<00:00, 16.1MB/s]\n",
      "100%|██████████████████████████████████████| 21.2M/21.2M [00:02<00:00, 8.76MB/s]\n"
     ]
    }
   ],
   "source": [
    "import os\n",
    "import kaggle\n",
    "\n",
    "os.environ['KAGGLE_USERNAME'] = 'your_username'\n",
    "os.environ['KAGGLE_KEY'] = 'your_api_key'\n",
    "\n",
    "!kaggle datasets download -d nathanlauga/nba-games -p dataset --unzip\n"
   ]
  },
  {
   "cell_type": "markdown",
   "id": "34254516",
   "metadata": {},
   "source": [
    "# Convert to Parquet using Spark"
   ]
  },
  {
   "cell_type": "code",
   "execution_count": 5,
   "id": "88737f04",
   "metadata": {},
   "outputs": [
    {
     "name": "stderr",
     "output_type": "stream",
     "text": [
      "24/11/20 15:43:42 WARN Utils: Your hostname, Yogis-MacBook-Pro.local resolves to a loopback address: 127.0.0.1; using 10.101.254.100 instead (on interface en0)\n",
      "24/11/20 15:43:42 WARN Utils: Set SPARK_LOCAL_IP if you need to bind to another address\n",
      "Setting default log level to \"WARN\".\n",
      "To adjust logging level use sc.setLogLevel(newLevel). For SparkR, use setLogLevel(newLevel).\n",
      "24/11/20 15:43:44 WARN NativeCodeLoader: Unable to load native-hadoop library for your platform... using builtin-java classes where applicable\n"
     ]
    }
   ],
   "source": [
    "from pyspark.sql import SparkSession\n",
    "from pyspark.sql.types import StructType, StructField, IntegerType, StringType, FloatType, DecimalType\n",
    "\n",
    "# Initialize a Spark session\n",
    "spark = SparkSession.builder \\\n",
    "    .appName(\"Convert CSV to Parquet\") \\\n",
    "    .master(\"local[2]\") \\\n",
    "    .config(\"spark.executor.memory\", \"2g\") \\\n",
    "    .config(\"spark.executor.cores\", \"1\")  \\\n",
    "    .config(\"spark.driver.memory\", \"1g\") \\\n",
    "    .getOrCreate()\n"
   ]
  },
  {
   "cell_type": "code",
   "execution_count": 6,
   "id": "c3c28d13",
   "metadata": {},
   "outputs": [],
   "source": [
    "\n",
    "# Define the schema for games_details\n",
    "schema_games_details = StructType([\n",
    "    StructField(\"GAME_ID\", IntegerType()),\n",
    "    StructField(\"TEAM_ID\", IntegerType()),\n",
    "    StructField(\"TEAM_ABBREVIATION\", StringType()),\n",
    "    StructField(\"TEAM_CITY\", StringType()),\n",
    "    StructField(\"PLAYER_ID\", IntegerType()),\n",
    "    StructField(\"PLAYER_NAME\", StringType()),\n",
    "    StructField(\"NICKNAME\", StringType()),\n",
    "    StructField(\"START_POSITION\", StringType()),\n",
    "    StructField(\"COMMENT\", StringType()),\n",
    "    StructField(\"MIN\", StringType()),\n",
    "    StructField(\"FGM\", FloatType()),\n",
    "    StructField(\"FGA\", FloatType()),\n",
    "    StructField(\"FG_PCT\", FloatType()),\n",
    "    StructField(\"FG3M\", FloatType()),\n",
    "    StructField(\"FG3A\", FloatType()),\n",
    "    StructField(\"FG3_PCT\", FloatType()),\n",
    "    StructField(\"FTM\", FloatType()),\n",
    "    StructField(\"FTA\", FloatType()),\n",
    "    StructField(\"FT_PCT\", FloatType()),\n",
    "    StructField(\"OREB\", FloatType()),\n",
    "    StructField(\"DREB\", FloatType()),\n",
    "    StructField(\"REB\", FloatType()),\n",
    "    StructField(\"AST\", FloatType()),\n",
    "    StructField(\"STL\", FloatType()),\n",
    "    StructField(\"BLK\", FloatType()),\n",
    "    StructField(\"TO\", FloatType()),\n",
    "    StructField(\"PF\", FloatType()),\n",
    "    StructField(\"PTS\", FloatType()),\n",
    "    StructField(\"PLUS_MINUS\", FloatType()),\n",
    "])\n",
    "\n",
    "\n",
    "schema_games = StructType([\n",
    "    StructField(\"GAME_DATE_EST\", StringType(), True),\n",
    "    StructField(\"GAME_ID\", StringType(), True),\n",
    "    StructField(\"GAME_STATUS_TEXT\", StringType(), True),\n",
    "    StructField(\"HOME_TEAM_ID\", StringType(), True),\n",
    "    StructField(\"VISITOR_TEAM_ID\", StringType(), True),\n",
    "    StructField(\"SEASON\", IntegerType(), True),\n",
    "    StructField(\"TEAM_ID_home\", StringType(), True),\n",
    "    StructField(\"PTS_home\", IntegerType(), True),\n",
    "    StructField(\"FG_PCT_home\", FloatType(), True),\n",
    "    StructField(\"FT_PCT_home\", FloatType(), True),\n",
    "    StructField(\"FG3_PCT_home\", FloatType(), True),\n",
    "    StructField(\"AST_home\", IntegerType(), True),\n",
    "    StructField(\"REB_home\", IntegerType(), True),\n",
    "    StructField(\"TEAM_ID_away\", StringType(), True),\n",
    "    StructField(\"PTS_away\", IntegerType(), True),\n",
    "    StructField(\"FG_PCT_away\", FloatType(), True),\n",
    "    StructField(\"FT_PCT_away\", FloatType(), True),\n",
    "    StructField(\"FG3_PCT_away\", FloatType(), True),\n",
    "    StructField(\"AST_away\", IntegerType(), True),\n",
    "    StructField(\"REB_away\", IntegerType(), True),\n",
    "    StructField(\"HOME_TEAM_WINS\", IntegerType(), True),\n",
    "])\n",
    "\n",
    "schema_players = StructType([\n",
    "    StructField(\"PLAYER_NAME\", StringType(), True),\n",
    "    StructField(\"TEAM_ID\", StringType(), True),\n",
    "    StructField(\"PLAYER_ID\", StringType(), True),\n",
    "    StructField(\"SEASON\", IntegerType(), True)\n",
    "])\n",
    "\n",
    "schema_ranking = StructType([\n",
    "    StructField(\"TEAM_ID\", StringType(), True),\n",
    "    StructField(\"LEAGUE_ID\", StringType(), True),\n",
    "    StructField(\"SEASON_ID\", StringType(), True),\n",
    "    StructField(\"STANDINGSDATE\", StringType(), True),\n",
    "    StructField(\"CONFERENCE\", StringType(), True),\n",
    "    StructField(\"TEAM\", StringType(), True),\n",
    "    StructField(\"G\", IntegerType(), True),\n",
    "    StructField(\"W\", IntegerType(), True),\n",
    "    StructField(\"L\", IntegerType(), True),\n",
    "    StructField(\"W_PCT\", FloatType(), True),\n",
    "    StructField(\"HOME_RECORD\", StringType(), True),\n",
    "    StructField(\"ROAD_RECORD\", StringType(), True),\n",
    "    StructField(\"RETURNTOPLAY\", StringType(), True)\n",
    "])\n",
    "\n",
    "schema_teams = StructType([\n",
    "    StructField(\"LEAGUE_ID\", StringType(), True),\n",
    "    StructField(\"TEAM_ID\", StringType(), True),\n",
    "    StructField(\"MIN_YEAR\", StringType(), True),\n",
    "    StructField(\"MAX_YEAR\", StringType(), True),\n",
    "    StructField(\"ABBREVIATION\", StringType(), True),\n",
    "    StructField(\"NICKNAME\", StringType(), True),\n",
    "    StructField(\"YEARFOUNDED\", IntegerType(), True),\n",
    "    StructField(\"CITY\", StringType(), True),\n",
    "    StructField(\"ARENA\", StringType(), True),\n",
    "    StructField(\"ARENACAPACITY\", IntegerType(), True),\n",
    "    StructField(\"OWNER\", StringType(), True),\n",
    "    StructField(\"GENERALMANAGER\", StringType(), True),\n",
    "    StructField(\"HEADCOACH\", StringType(), True),\n",
    "    StructField(\"DLEAGUEAFFILIATION\", StringType(), True)\n",
    "])\n",
    "\n",
    "\n"
   ]
  },
  {
   "cell_type": "code",
   "execution_count": 7,
   "id": "d21f8eb3-5226-402f-8a74-1ce406a070a4",
   "metadata": {},
   "outputs": [
    {
     "name": "stderr",
     "output_type": "stream",
     "text": [
      "24/11/20 15:43:52 WARN SparkStringUtils: Truncated the string representation of a plan since it was too large. This behavior can be adjusted by setting 'spark.sql.debug.maxToStringFields'.\n",
      "                                                                                \r"
     ]
    },
    {
     "name": "stdout",
     "output_type": "stream",
     "text": [
      "+--------+----------+-----------------+-----------+---------+--------------+--------+--------------+-------+-----+---+----+------+----+----+-------+---+----+------+----+----+---+---+---+---+---+---+----+----------+\n",
      "|GAME_ID |TEAM_ID   |TEAM_ABBREVIATION|TEAM_CITY  |PLAYER_ID|PLAYER_NAME   |NICKNAME|START_POSITION|COMMENT|MIN  |FGM|FGA |FG_PCT|FG3M|FG3A|FG3_PCT|FTM|FTA |FT_PCT|OREB|DREB|REB|AST|STL|BLK|TO |PF |PTS |PLUS_MINUS|\n",
      "+--------+----------+-----------------+-----------+---------+--------------+--------+--------------+-------+-----+---+----+------+----+----+-------+---+----+------+----+----+---+---+---+---+---+---+----+----------+\n",
      "|22200477|1610612759|SAS              |San Antonio|1629641  |Romeo Langford|Romeo   |F             |NULL   |18:06|1.0|1.0 |1.0   |0.0 |0.0 |0.0    |0.0|0.0 |0.0   |1.0 |1.0 |2.0|0.0|1.0|0.0|2.0|5.0|2.0 |-2.0      |\n",
      "|22200477|1610612759|SAS              |San Antonio|1631110  |Jeremy Sochan |Jeremy  |F             |NULL   |31:01|7.0|14.0|0.5   |2.0 |4.0 |0.5    |7.0|10.0|0.7   |6.0 |3.0 |9.0|6.0|1.0|0.0|2.0|1.0|23.0|-14.0     |\n",
      "|22200477|1610612759|SAS              |San Antonio|1627751  |Jakob Poeltl  |Jakob   |C             |NULL   |21:42|6.0|9.0 |0.667 |0.0 |0.0 |0.0    |1.0|1.0 |1.0   |1.0 |3.0 |4.0|1.0|1.0|0.0|2.0|4.0|13.0|-4.0      |\n",
      "|22200477|1610612759|SAS              |San Antonio|1630170  |Devin Vassell |Devin   |G             |NULL   |30:20|4.0|13.0|0.308 |1.0 |6.0 |0.167  |1.0|1.0 |1.0   |0.0 |9.0 |9.0|5.0|3.0|0.0|2.0|1.0|10.0|-18.0     |\n",
      "|22200477|1610612759|SAS              |San Antonio|1630200  |Tre Jones     |Tre     |G             |NULL   |27:44|7.0|12.0|0.583 |1.0 |3.0 |0.333  |4.0|4.0 |1.0   |0.0 |2.0 |2.0|3.0|0.0|0.0|2.0|2.0|19.0|0.0       |\n",
      "+--------+----------+-----------------+-----------+---------+--------------+--------+--------------+-------+-----+---+----+------+----+----+-------+---+----+------+----+----+---+---+---+---+---+---+----+----------+\n",
      "only showing top 5 rows\n",
      "\n"
     ]
    }
   ],
   "source": [
    "# Load the games_details data into a DataFrame with a defined schema\n",
    "games_details_df = spark.read.csv(\n",
    "    \"dataset/games_details.csv\", \n",
    "    header=True, \n",
    "    schema=schema_games_details\n",
    ")\n",
    "\n",
    "# Show the first few rows of the DataFrame to verify the data\n",
    "games_details_df.show(n=5, truncate=False)"
   ]
  },
  {
   "cell_type": "code",
   "execution_count": 9,
   "id": "e5636424-d860-4cff-9fe3-b3dc1e8dbd2a",
   "metadata": {},
   "outputs": [
    {
     "name": "stderr",
     "output_type": "stream",
     "text": [
      "/var/folders/y_/51s762l96md64s3q6nr4g3pw0000gn/T/ipykernel_11179/1464198128.py:7: DtypeWarning: Columns (6) have mixed types. Specify dtype option on import or set low_memory=False.\n",
      "  df = pd.read_csv(csv_file_path)\n"
     ]
    },
    {
     "name": "stdout",
     "output_type": "stream",
     "text": [
      "First few rows of the DataFrame:\n",
      "    GAME_ID     TEAM_ID TEAM_ABBREVIATION    TEAM_CITY  PLAYER_ID  \\\n",
      "0  22200477  1610612759               SAS  San Antonio    1629641   \n",
      "1  22200477  1610612759               SAS  San Antonio    1631110   \n",
      "2  22200477  1610612759               SAS  San Antonio    1627751   \n",
      "3  22200477  1610612759               SAS  San Antonio    1630170   \n",
      "4  22200477  1610612759               SAS  San Antonio    1630200   \n",
      "\n",
      "      PLAYER_NAME NICKNAME START_POSITION COMMENT    MIN  ...  OREB  DREB  \\\n",
      "0  Romeo Langford    Romeo              F     NaN  18:06  ...   1.0   1.0   \n",
      "1   Jeremy Sochan   Jeremy              F     NaN  31:01  ...   6.0   3.0   \n",
      "2    Jakob Poeltl    Jakob              C     NaN  21:42  ...   1.0   3.0   \n",
      "3   Devin Vassell    Devin              G     NaN  30:20  ...   0.0   9.0   \n",
      "4       Tre Jones      Tre              G     NaN  27:44  ...   0.0   2.0   \n",
      "\n",
      "   REB  AST  STL  BLK   TO   PF   PTS  PLUS_MINUS  \n",
      "0  2.0  0.0  1.0  0.0  2.0  5.0   2.0        -2.0  \n",
      "1  9.0  6.0  1.0  0.0  2.0  1.0  23.0       -14.0  \n",
      "2  4.0  1.0  1.0  0.0  2.0  4.0  13.0        -4.0  \n",
      "3  9.0  5.0  3.0  0.0  2.0  1.0  10.0       -18.0  \n",
      "4  2.0  3.0  0.0  0.0  2.0  2.0  19.0         0.0  \n",
      "\n",
      "[5 rows x 29 columns]\n",
      "\n",
      "Data types of the columns:\n",
      "GAME_ID                int64\n",
      "TEAM_ID                int64\n",
      "TEAM_ABBREVIATION     object\n",
      "TEAM_CITY             object\n",
      "PLAYER_ID              int64\n",
      "PLAYER_NAME           object\n",
      "NICKNAME              object\n",
      "START_POSITION        object\n",
      "COMMENT               object\n",
      "MIN                   object\n",
      "FGM                  float64\n",
      "FGA                  float64\n",
      "FG_PCT               float64\n",
      "FG3M                 float64\n",
      "FG3A                 float64\n",
      "FG3_PCT              float64\n",
      "FTM                  float64\n",
      "FTA                  float64\n",
      "FT_PCT               float64\n",
      "OREB                 float64\n",
      "DREB                 float64\n",
      "REB                  float64\n",
      "AST                  float64\n",
      "STL                  float64\n",
      "BLK                  float64\n",
      "TO                   float64\n",
      "PF                   float64\n",
      "PTS                  float64\n",
      "PLUS_MINUS           float64\n",
      "dtype: object\n",
      "\n",
      "Column names:\n",
      "Index(['GAME_ID', 'TEAM_ID', 'TEAM_ABBREVIATION', 'TEAM_CITY', 'PLAYER_ID',\n",
      "       'PLAYER_NAME', 'NICKNAME', 'START_POSITION', 'COMMENT', 'MIN', 'FGM',\n",
      "       'FGA', 'FG_PCT', 'FG3M', 'FG3A', 'FG3_PCT', 'FTM', 'FTA', 'FT_PCT',\n",
      "       'OREB', 'DREB', 'REB', 'AST', 'STL', 'BLK', 'TO', 'PF', 'PTS',\n",
      "       'PLUS_MINUS'],\n",
      "      dtype='object')\n",
      "\n",
      "Checking for missing values:\n",
      "GAME_ID                   0\n",
      "TEAM_ID                   0\n",
      "TEAM_ABBREVIATION         0\n",
      "TEAM_CITY                 0\n",
      "PLAYER_ID                 0\n",
      "PLAYER_NAME               0\n",
      "NICKNAME             615591\n",
      "START_POSITION       412863\n",
      "COMMENT              558939\n",
      "MIN                  109690\n",
      "FGM                  109690\n",
      "FGA                  109690\n",
      "FG_PCT               109690\n",
      "FG3M                 109690\n",
      "FG3A                 109690\n",
      "FG3_PCT              109690\n",
      "FTM                  109690\n",
      "FTA                  109690\n",
      "FT_PCT               109690\n",
      "OREB                 109690\n",
      "DREB                 109690\n",
      "REB                  109690\n",
      "AST                  109690\n",
      "STL                  109690\n",
      "BLK                  109690\n",
      "TO                   109690\n",
      "PF                   109690\n",
      "PTS                  109690\n",
      "PLUS_MINUS           133351\n",
      "dtype: int64\n"
     ]
    }
   ],
   "source": [
    "import pandas as pd\n",
    "\n",
    "# Define the path to the CSV file\n",
    "csv_file_path = \"dataset/games_details.csv\"\n",
    "\n",
    "# Read the CSV file into a DataFrame\n",
    "df = pd.read_csv(csv_file_path)\n",
    "\n",
    "# Print the first few rows of the DataFrame\n",
    "print(\"First few rows of the DataFrame:\")\n",
    "print(df.head())\n",
    "\n",
    "# Print the data types of the columns\n",
    "print(\"\\nData types of the columns:\")\n",
    "print(df.dtypes)\n",
    "\n",
    "# Print the column names to verify they match the expected schema\n",
    "print(\"\\nColumn names:\")\n",
    "print(df.columns)\n",
    "\n",
    "# Check for any missing values in the DataFrame\n",
    "print(\"\\nChecking for missing values:\")\n",
    "print(df.isnull().sum())\n"
   ]
  },
  {
   "cell_type": "code",
   "execution_count": null,
   "id": "8c5b0fb8-277c-4a33-bbf1-f9f47214e1f5",
   "metadata": {},
   "outputs": [],
   "source": []
  },
  {
   "cell_type": "code",
   "execution_count": null,
   "id": "87800965-f384-4157-8bb2-12d7474d8b20",
   "metadata": {},
   "outputs": [],
   "source": []
  },
  {
   "cell_type": "code",
   "execution_count": 10,
   "id": "09453dbf",
   "metadata": {},
   "outputs": [
    {
     "name": "stderr",
     "output_type": "stream",
     "text": [
      "                                                                                \r"
     ]
    }
   ],
   "source": [
    "# Function to convert CSV to Parquet\n",
    "def convert_csv_to_parquet(file_path, schema, output_path):\n",
    "    df = spark.read.csv(file_path, header=True, schema=schema)\n",
    "    df.write.parquet(output_path, mode='overwrite')\n",
    "\n",
    "# Specify your file paths\n",
    "convert_csv_to_parquet(\"dataset/games_details.csv\", schema_games_details, \"dataset/parquet/games_details\")\n",
    "convert_csv_to_parquet(\"dataset/games.csv\", schema_games, \"dataset/parquet/games\")\n",
    "convert_csv_to_parquet(\"dataset/players.csv\", schema_players, \"dataset/parquet/players\")\n",
    "convert_csv_to_parquet(\"dataset/ranking.csv\", schema_ranking, \"dataset/parquet/ranking\")\n",
    "convert_csv_to_parquet(\"dataset/teams.csv\", schema_teams, \"dataset/parquet/teams\")\n"
   ]
  },
  {
   "cell_type": "markdown",
   "id": "e8e74e4e-5cda-48de-b137-c0784d94f8d7",
   "metadata": {},
   "source": [
    "# Compare parquet and sql performance"
   ]
  },
  {
   "cell_type": "code",
   "execution_count": 11,
   "id": "66c96a3b-aa14-49b8-ab70-4a2b422467c5",
   "metadata": {},
   "outputs": [
    {
     "name": "stderr",
     "output_type": "stream",
     "text": [
      "                                                                                \r"
     ]
    },
    {
     "name": "stdout",
     "output_type": "stream",
     "text": [
      "Games CSV - Count: 26651, Time taken: 1.2104 seconds\n",
      "Games Parquet - Count: 26651, Time taken: 0.4333 seconds\n",
      "Players CSV - Count: 7228, Time taken: 0.3303 seconds\n",
      "Players Parquet - Count: 7228, Time taken: 0.3192 seconds\n"
     ]
    },
    {
     "data": {
      "image/png": "[encoded data removed]",
      "text/plain": [
       "<Figure size 640x480 with 1 Axes>"
      ]
     },
     "metadata": {},
     "output_type": "display_data"
    }
   ],
   "source": [
    "from pyspark.sql import SparkSession\n",
    "import time\n",
    "import matplotlib.pyplot as plt\n",
    "\n",
    "# Define paths to your datasets\n",
    "path_csv_games = \"dataset/games.csv\"\n",
    "path_csv_players = \"dataset/players.csv\"  # Updated to players CSV\n",
    "path_parquet_players = \"dataset/parquet/players\"  # Updated to players Parquet\n",
    "path_parquet_games = \"dataset/parquet/games\"\n",
    "\n",
    "\n",
    "# Load all Parquet files from the specified directory\n",
    "df_games_parquet = spark.read.parquet(path_parquet_games)\n",
    "df_players_parquet = spark.read.parquet(path_parquet_players)\n",
    "\n",
    "# Initialize lists to store results for visualization\n",
    "count_results = []\n",
    "\n",
    "# Function to load data and benchmark simple count query\n",
    "def benchmark_count(dataframe, description):\n",
    "    start_time = time.time()\n",
    "    count = dataframe.count()\n",
    "    end_time = time.time()\n",
    "    duration = end_time - start_time\n",
    "    count_results.append((description, duration))\n",
    "    print(f\"{description} - Count: {count}, Time taken: {duration:.4f} seconds\")\n",
    "\n",
    "\n",
    "# Load and benchmark CSV and Parquet for 'games.csv'\n",
    "df_games_csv = spark.read.csv(path_csv_games, header=True, inferSchema=True)\n",
    "df_games_parquet = spark.read.parquet(path_parquet_games)\n",
    "\n",
    "benchmark_count(df_games_csv, \"Games CSV\")\n",
    "benchmark_count(df_games_parquet, \"Games Parquet\")\n",
    "\n",
    "# Load and benchmark CSV and Parquet for 'players.csv'\n",
    "df_players_csv = spark.read.csv(path_csv_players, header=True, inferSchema=True)\n",
    "df_players_parquet = spark.read.parquet(path_parquet_players)\n",
    "\n",
    "benchmark_count(df_players_csv, \"Players CSV\")\n",
    "benchmark_count(df_players_parquet, \"Players Parquet\")\n",
    "\n",
    "\n",
    "# Visualization for Count Benchmark\n",
    "labels, times = zip(*count_results)\n",
    "fig, ax = plt.subplots()\n",
    "ax.barh(labels, times, color='skyblue')\n",
    "ax.set_xlabel('Time in seconds')\n",
    "ax.set_title('Count Performance: CSV vs. Parquet')\n",
    "plt.show()"
   ]
  },
  {
   "cell_type": "code",
   "execution_count": 12,
   "id": "39853b3b-ed11-4682-9eaf-82b11473913c",
   "metadata": {},
   "outputs": [
    {
     "name": "stdout",
     "output_type": "stream",
     "text": [
      "Players CSV Complex Query - Time taken for complex query: 1.4318 seconds\n",
      "Players Parquet Complex Query - Time taken for complex query: 0.7061 seconds\n"
     ]
    },
    {
     "data": {
      "image/png": "[encoded data removed]",
      "text/plain": [
       "<Figure size 640x480 with 1 Axes>"
      ]
     },
     "metadata": {},
     "output_type": "display_data"
    }
   ],
   "source": [
    "# Define paths to your datasets\n",
    "path_csv_players = \"dataset/players.csv\"\n",
    "path_parquet_players = \"dataset/parquet/players\"\n",
    "\n",
    "# Load all Parquet files from the specified directory\n",
    "df_players_csv = spark.read.csv(path_csv_players, header=True, inferSchema=True)\n",
    "df_players_parquet = spark.read.parquet(path_parquet_players)\n",
    "\n",
    "# Initialize lists to store results for visualization\n",
    "query_results = []\n",
    "\n",
    "# Function to perform a complex query and benchmark\n",
    "def complex_query_benchmark(dataframe, description):\n",
    "    start_time = time.time()\n",
    "    result = dataframe.groupBy(\"TEAM_ID\").avg(\"SEASON\").collect()\n",
    "    end_time = time.time()\n",
    "    duration = end_time - start_time\n",
    "    query_results.append((description, duration))\n",
    "    print(f\"{description} - Time taken for complex query: {duration:.4f} seconds\")\n",
    "\n",
    "# Complex Query Benchmarking\n",
    "complex_query_benchmark(df_players_csv, \"Players CSV Complex Query\")\n",
    "complex_query_benchmark(df_players_parquet, \"Players Parquet Complex Query\")\n",
    "\n",
    "\n",
    "\n",
    "# Visualization for Complex Query Benchmark\n",
    "labels, times = zip(*query_results)\n",
    "fig, ax = plt.subplots()\n",
    "ax.barh(labels, times, color='orange')\n",
    "ax.set_xlabel('Time in seconds')\n",
    "ax.set_title('Complex Query Performance: CSV vs. Parquet')\n",
    "plt.show()"
   ]
  },
  {
   "cell_type": "markdown",
   "id": "f0fdda23-82c6-45c2-8d42-51e297454ddd",
   "metadata": {},
   "source": [
    "# Get Player Information "
   ]
  },
  {
   "cell_type": "code",
   "execution_count": 14,
   "id": "b02db39a-b218-4012-a61b-d4e447180367",
   "metadata": {},
   "outputs": [
    {
     "name": "stdout",
     "output_type": "stream",
     "text": [
      "Player roster for 2016-17 season saved successfully as dataset/nba_team_rosters_2016_17.csv!\n"
     ]
    }
   ],
   "source": [
    "import pandas as pd\n",
    "import time\n",
    "from nba_api.stats.endpoints import commonteamroster\n",
    "from nba_api.stats.static import teams\n",
    "import os\n",
    "\n",
    "# Get all NBA team IDs\n",
    "nba_teams = teams.get_teams()\n",
    "team_ids = [team['id'] for team in nba_teams]\n",
    "\n",
    "# Define the 2016-17 season\n",
    "season = \"2016-17\"\n",
    "\n",
    "# Fetch roster for each team in the 2016-17 season\n",
    "all_rosters = []\n",
    "\n",
    "# Function to fetch team roster with retries\n",
    "def fetch_team_roster(team_id, season, max_retries=3, delay=5):\n",
    "    for attempt in range(max_retries):\n",
    "        try:\n",
    "            # Fetch the roster\n",
    "            roster = commonteamroster.CommonTeamRoster(team_id=team_id, league_id_nullable='00', season=season)\n",
    "            df_roster = roster.get_data_frames()[0]\n",
    "            # Select specific columns\n",
    "            df_roster = df_roster[[\n",
    "                \"TeamID\", \"SEASON\", \"LeagueID\", \"PLAYER\", \"POSITION\",\n",
    "                \"HEIGHT\", \"WEIGHT\", \"BIRTH_DATE\", \"AGE\", \"SCHOOL\"\n",
    "            ]]\n",
    "            return df_roster\n",
    "        except Exception as e:\n",
    "            print(f\"Attempt {attempt + 1} failed for TeamID: {team_id}, Season: {season} - {e}\")\n",
    "            if attempt < max_retries - 1:  # Only delay if there are remaining retries\n",
    "                time.sleep(delay)\n",
    "    return None  # Return None if all retries fail\n",
    "\n",
    "# Loop through team IDs and fetch their rosters\n",
    "for team_id in team_ids:\n",
    "    df_roster = fetch_team_roster(team_id, season)\n",
    "    if df_roster is not None:\n",
    "        all_rosters.append(df_roster)\n",
    "    else:\n",
    "        print(f\"Failed to fetch roster for TeamID: {team_id}, Season: {season} after multiple attempts.\")\n",
    "\n",
    "# Combine all rosters into a single DataFrame\n",
    "df_all_rosters = pd.concat(all_rosters, ignore_index=True)\n",
    "\n",
    "# Replace NaN with None\n",
    "df_all_rosters = df_all_rosters.where(pd.notnull(df_all_rosters), None)\n",
    "\n",
    "# Define the output Parquet file path\n",
    "parquet_path = 'dataset/parquet/nba_team_rosters_2016_17.parquet'\n",
    "\n",
    "# Ensure the directory exists\n",
    "os.makedirs(os.path.dirname(parquet_path), exist_ok=True)\n",
    "\n",
    "# Save the DataFrame to a Parquet file\n",
    "df_all_rosters.to_parquet(parquet_path, index=False, engine='pyarrow')\n",
    "\n",
    "print(f\"Player roster for 2016-17 season saved successfully as {parquet_path}!\")\n"
   ]
  },
  {
   "cell_type": "code",
   "execution_count": null,
   "id": "b8b2db1e-ec1e-4b3d-b47e-9c15d3999cff",
   "metadata": {},
   "outputs": [],
   "source": []
  },
  {
   "cell_type": "markdown",
   "id": "959848b1-d503-4c03-abcb-85f2a10fb543",
   "metadata": {},
   "source": [
    "# Data Ingestion to Snowflake"
   ]
  },
  {
   "cell_type": "code",
   "execution_count": 15,
   "id": "58ba275a-2c2a-46ee-8d11-f94f0b679a2a",
   "metadata": {},
   "outputs": [
    {
     "name": "stdout",
     "output_type": "stream",
     "text": [
      "Connected to Snowflake! The version is: 8.43.0\n"
     ]
    }
   ],
   "source": [
    "# Testing Connection\n",
    "\n",
    "import os\n",
    "from dotenv import load_dotenv\n",
    "import snowflake.connector\n",
    "\n",
    "# Load environment variables from .env file\n",
    "load_dotenv()\n",
    "\n",
    "def test_snowflake_connection():\n",
    "    # Setup connection to Snowflake\n",
    "    ctx = snowflake.connector.connect(\n",
    "        user=os.getenv('SNOWFLAKE_USER'),\n",
    "        password=os.getenv('SNOWFLAKE_PASSWORD'),\n",
    "        account=os.getenv('SNOWFLAKE_ACCOUNT'),\n",
    "        warehouse=os.getenv('SNOWFLAKE_WAREHOUSE'),\n",
    "        database=os.getenv('SNOWFLAKE_DATABASE'),\n",
    "        schema=os.getenv('SNOWFLAKE_SCHEMA')\n",
    "    )\n",
    "    \n",
    "    try:\n",
    "        # Create a cursor object\n",
    "        cur = ctx.cursor()\n",
    "        \n",
    "        # Execute a query\n",
    "        cur.execute(\"SELECT CURRENT_VERSION()\")\n",
    "        \n",
    "        # Fetch one result\n",
    "        one_row = cur.fetchone()\n",
    "        print(\"Connected to Snowflake! The version is:\", one_row[0])\n",
    "    \n",
    "    except Exception as e:\n",
    "        print(\"Failed to query Snowflake:\", e)\n",
    "    \n",
    "    finally:\n",
    "        cur.close()\n",
    "        ctx.close()\n",
    "\n",
    "if __name__ == \"__main__\":\n",
    "    test_snowflake_connection()\n"
   ]
  },
  {
   "cell_type": "code",
   "execution_count": 17,
   "id": "53cf5a61-8d81-4f68-8f65-e9fb63dd13cd",
   "metadata": {},
   "outputs": [
    {
     "name": "stdout",
     "output_type": "stream",
     "text": [
      "CSV file not found: dataset/csv/nba_team_rosters_2016_17.csv\n",
      "Successfully uploaded 26651 rows and 1 chunks to GAMES.\n",
      "Successfully uploaded 315922 rows and 1 chunks to GAMES_DETAILS.\n",
      "Failed to upload data to GAMES_DETAILS: 100038 (22018): Numeric value 'Romeo' is not recognized\n",
      "Successfully uploaded 7228 rows and 1 chunks to PLAYERS.\n",
      "Successfully uploaded 133051 rows and 1 chunks to RANKING.\n",
      "Successfully uploaded 77291 rows and 1 chunks to RANKING.\n",
      "Successfully uploaded 30 rows and 1 chunks to TEAMS.\n",
      "Successfully uploaded 435 rows and 1 chunks to PLAYER_INFORMATION.\n"
     ]
    }
   ],
   "source": [
    "import os\n",
    "import pandas as pd\n",
    "import snowflake.connector\n",
    "from snowflake.connector.pandas_tools import write_pandas\n",
    "from dotenv import load_dotenv\n",
    "\n",
    "# Load environment variables\n",
    "load_dotenv()\n",
    "\n",
    "# Establish connection to Snowflake\n",
    "ctx = snowflake.connector.connect(\n",
    "    user=os.getenv('SNOWFLAKE_USER'),\n",
    "    password=os.getenv('SNOWFLAKE_PASSWORD'),\n",
    "    account=os.getenv('SNOWFLAKE_ACCOUNT'),\n",
    "    warehouse=os.getenv('SNOWFLAKE_WAREHOUSE'),\n",
    "    database=os.getenv('SNOWFLAKE_DATABASE'),\n",
    "    schema=os.getenv('SNOWFLAKE_SCHEMA'),\n",
    "    role=os.getenv('SNOWFLAKE_ROLE')\n",
    ")\n",
    "\n",
    "def upload_dataframe_to_snowflake(df, table_name):\n",
    "    try:\n",
    "        # Data type conversion: ensure numeric fields are in the correct format\n",
    "        if 'TEAMID' in df.columns:\n",
    "            df['TEAMID'] = pd.to_numeric(df['TEAMID'], errors='coerce')\n",
    "        if 'WEIGHT' in df.columns:\n",
    "            df['WEIGHT'] = pd.to_numeric(df['WEIGHT'], errors='coerce')\n",
    "        if 'AGE' in df.columns:\n",
    "            df['AGE'] = pd.to_numeric(df['AGE'], errors='coerce')\n",
    "\n",
    "        # Upload data to Snowflake\n",
    "        success, nchunks, nrows, _ = write_pandas(ctx, df, table_name, auto_create_table=True)\n",
    "        print(f\"Successfully uploaded {nrows} rows and {nchunks} chunks to {table_name}.\")\n",
    "    except Exception as e:\n",
    "        print(f\"Failed to upload data to {table_name}: {e}\")\n",
    "\n",
    "# Dictionary mapping table names to Parquet directories or files\n",
    "parquet_dirs = {\n",
    "    'games': 'dataset/parquet/games',\n",
    "    'games_details': 'dataset/parquet/games_details',\n",
    "    'players': 'dataset/parquet/players',\n",
    "    'ranking': 'dataset/parquet/ranking',\n",
    "    'teams': 'dataset/parquet/teams',\n",
    "    'player_information': 'dataset/parquet/nba_team_rosters_2016_17.parquet'  # Parquet version of player information\n",
    "}\n",
    "\n",
    "# Process each Parquet directory or file and upload its contents to Snowflake\n",
    "for table_name, directory in parquet_dirs.items():\n",
    "    if os.path.isfile(directory):  # If it's a file\n",
    "        df_parquet = pd.read_parquet(directory)\n",
    "        upload_dataframe_to_snowflake(df_parquet, table_name.upper())\n",
    "    elif os.path.isdir(directory):  # If it's a directory\n",
    "        for file_name in os.listdir(directory):\n",
    "            if file_name.endswith('.parquet'):\n",
    "                file_path = os.path.join(directory, file_name)\n",
    "                df_parquet = pd.read_parquet(file_path)\n",
    "                upload_dataframe_to_snowflake(df_parquet, table_name.upper())\n",
    "    else:\n",
    "        print(f\"Skipped {directory}: Not a file or directory.\")\n",
    "\n",
    "# Close the connection\n",
    "ctx.close()\n"
   ]
  },
  {
   "cell_type": "code",
   "execution_count": null,
   "id": "6b0ce096-841f-43da-8645-6f08b1b2c987",
   "metadata": {},
   "outputs": [],
   "source": []
  },
  {
   "cell_type": "code",
   "execution_count": null,
   "id": "f20698a1-3ddf-4150-910c-8670e242c914",
   "metadata": {},
   "outputs": [],
   "source": []
  },
  {
   "cell_type": "code",
   "execution_count": null,
   "id": "74bc4868-c6b4-41b5-b8f9-03b2a40357b2",
   "metadata": {},
   "outputs": [],
   "source": []
  }
 ],
 "metadata": {
  "kernelspec": {
   "display_name": "Python (NBA Analysis)",
   "language": "python",
   "name": "nba_analysis_env"
  },
  "language_info": {
   "codemirror_mode": {
    "name": "ipython",
    "version": 3
   },
   "file_extension": ".py",
   "mimetype": "text/x-python",
   "name": "python",
   "nbconvert_exporter": "python",
   "pygments_lexer": "ipython3",
   "version": "3.11.5"
  }
 },
 "nbformat": 4,
 "nbformat_minor": 5
}
